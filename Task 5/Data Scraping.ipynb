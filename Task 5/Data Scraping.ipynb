{
 "cells": [
  {
   "cell_type": "code",
   "execution_count": 2,
   "metadata": {},
   "outputs": [
    {
     "ename": "NoSuchWindowException",
     "evalue": "Message: no such window: target window already closed\nfrom unknown error: web view not found\n  (Session info: chrome=114.0.5735.134)\nStacktrace:\nBacktrace:\n\tGetHandleVerifier [0x0087A813+48355]\n\t(No symbol) [0x0080C4B1]\n\t(No symbol) [0x00715358]\n\t(No symbol) [0x006FD293]\n\t(No symbol) [0x0075E37B]\n\t(No symbol) [0x0076C473]\n\t(No symbol) [0x0075A536]\n\t(No symbol) [0x007382DC]\n\t(No symbol) [0x007393DD]\n\tGetHandleVerifier [0x00ADAABD+2539405]\n\tGetHandleVerifier [0x00B1A78F+2800735]\n\tGetHandleVerifier [0x00B1456C+2775612]\n\tGetHandleVerifier [0x009051E0+616112]\n\t(No symbol) [0x00815F8C]\n\t(No symbol) [0x00812328]\n\t(No symbol) [0x0081240B]\n\t(No symbol) [0x00804FF7]\n\tBaseThreadInitThunk [0x761A7D59+25]\n\tRtlInitializeExceptionChain [0x774EB74B+107]\n\tRtlClearBits [0x774EB6CF+191]\n",
     "output_type": "error",
     "traceback": [
      "\u001b[1;31m---------------------------------------------------------------------------\u001b[0m",
      "\u001b[1;31mNoSuchWindowException\u001b[0m                     Traceback (most recent call last)",
      "Cell \u001b[1;32mIn[2], line 23\u001b[0m\n\u001b[0;32m     20\u001b[0m driver \u001b[39m=\u001b[39m webdriver\u001b[39m.\u001b[39mChrome(service\u001b[39m=\u001b[39mService(ChromeDriverManager()\u001b[39m.\u001b[39minstall()), options\u001b[39m=\u001b[39moptions)\n\u001b[0;32m     21\u001b[0m driver\u001b[39m.\u001b[39mget(\u001b[39m'\u001b[39m\u001b[39mhttp://www.google.com\u001b[39m\u001b[39m'\u001b[39m)\n\u001b[1;32m---> 23\u001b[0m search_element \u001b[39m=\u001b[39m driver\u001b[39m.\u001b[39;49mfind_element(By\u001b[39m.\u001b[39;49mNAME, \u001b[39m\"\u001b[39;49m\u001b[39mq\u001b[39;49m\u001b[39m\"\u001b[39;49m)\n\u001b[0;32m     24\u001b[0m \u001b[39m# time.sleep(0.5)\u001b[39;00m\n\u001b[0;32m     25\u001b[0m name1 \u001b[39m=\u001b[39m name\u001b[39m+\u001b[39m\u001b[39mstr\u001b[39m(\u001b[39m\"\u001b[39m\u001b[39m \u001b[39m\u001b[39m\"\u001b[39m)\u001b[39m+\u001b[39m\u001b[39mstr\u001b[39m(\u001b[39m20\u001b[39m)\u001b[39m+\u001b[39m\u001b[39mstr\u001b[39m(i)\n",
      "File \u001b[1;32mc:\\Users\\guddu\\anaconda3\\lib\\site-packages\\selenium\\webdriver\\remote\\webdriver.py:740\u001b[0m, in \u001b[0;36mWebDriver.find_element\u001b[1;34m(self, by, value)\u001b[0m\n\u001b[0;32m    737\u001b[0m     by \u001b[39m=\u001b[39m By\u001b[39m.\u001b[39mCSS_SELECTOR\n\u001b[0;32m    738\u001b[0m     value \u001b[39m=\u001b[39m \u001b[39mf\u001b[39m\u001b[39m'\u001b[39m\u001b[39m[name=\u001b[39m\u001b[39m\"\u001b[39m\u001b[39m{\u001b[39;00mvalue\u001b[39m}\u001b[39;00m\u001b[39m\"\u001b[39m\u001b[39m]\u001b[39m\u001b[39m'\u001b[39m\n\u001b[1;32m--> 740\u001b[0m \u001b[39mreturn\u001b[39;00m \u001b[39mself\u001b[39;49m\u001b[39m.\u001b[39;49mexecute(Command\u001b[39m.\u001b[39;49mFIND_ELEMENT, {\u001b[39m\"\u001b[39;49m\u001b[39musing\u001b[39;49m\u001b[39m\"\u001b[39;49m: by, \u001b[39m\"\u001b[39;49m\u001b[39mvalue\u001b[39;49m\u001b[39m\"\u001b[39;49m: value})[\u001b[39m\"\u001b[39m\u001b[39mvalue\u001b[39m\u001b[39m\"\u001b[39m]\n",
      "File \u001b[1;32mc:\\Users\\guddu\\anaconda3\\lib\\site-packages\\selenium\\webdriver\\remote\\webdriver.py:346\u001b[0m, in \u001b[0;36mWebDriver.execute\u001b[1;34m(self, driver_command, params)\u001b[0m\n\u001b[0;32m    344\u001b[0m response \u001b[39m=\u001b[39m \u001b[39mself\u001b[39m\u001b[39m.\u001b[39mcommand_executor\u001b[39m.\u001b[39mexecute(driver_command, params)\n\u001b[0;32m    345\u001b[0m \u001b[39mif\u001b[39;00m response:\n\u001b[1;32m--> 346\u001b[0m     \u001b[39mself\u001b[39;49m\u001b[39m.\u001b[39;49merror_handler\u001b[39m.\u001b[39;49mcheck_response(response)\n\u001b[0;32m    347\u001b[0m     response[\u001b[39m\"\u001b[39m\u001b[39mvalue\u001b[39m\u001b[39m\"\u001b[39m] \u001b[39m=\u001b[39m \u001b[39mself\u001b[39m\u001b[39m.\u001b[39m_unwrap_value(response\u001b[39m.\u001b[39mget(\u001b[39m\"\u001b[39m\u001b[39mvalue\u001b[39m\u001b[39m\"\u001b[39m, \u001b[39mNone\u001b[39;00m))\n\u001b[0;32m    348\u001b[0m     \u001b[39mreturn\u001b[39;00m response\n",
      "File \u001b[1;32mc:\\Users\\guddu\\anaconda3\\lib\\site-packages\\selenium\\webdriver\\remote\\errorhandler.py:245\u001b[0m, in \u001b[0;36mErrorHandler.check_response\u001b[1;34m(self, response)\u001b[0m\n\u001b[0;32m    243\u001b[0m         alert_text \u001b[39m=\u001b[39m value[\u001b[39m\"\u001b[39m\u001b[39malert\u001b[39m\u001b[39m\"\u001b[39m]\u001b[39m.\u001b[39mget(\u001b[39m\"\u001b[39m\u001b[39mtext\u001b[39m\u001b[39m\"\u001b[39m)\n\u001b[0;32m    244\u001b[0m     \u001b[39mraise\u001b[39;00m exception_class(message, screen, stacktrace, alert_text)  \u001b[39m# type: ignore[call-arg]  # mypy is not smart enough here\u001b[39;00m\n\u001b[1;32m--> 245\u001b[0m \u001b[39mraise\u001b[39;00m exception_class(message, screen, stacktrace)\n",
      "\u001b[1;31mNoSuchWindowException\u001b[0m: Message: no such window: target window already closed\nfrom unknown error: web view not found\n  (Session info: chrome=114.0.5735.134)\nStacktrace:\nBacktrace:\n\tGetHandleVerifier [0x0087A813+48355]\n\t(No symbol) [0x0080C4B1]\n\t(No symbol) [0x00715358]\n\t(No symbol) [0x006FD293]\n\t(No symbol) [0x0075E37B]\n\t(No symbol) [0x0076C473]\n\t(No symbol) [0x0075A536]\n\t(No symbol) [0x007382DC]\n\t(No symbol) [0x007393DD]\n\tGetHandleVerifier [0x00ADAABD+2539405]\n\tGetHandleVerifier [0x00B1A78F+2800735]\n\tGetHandleVerifier [0x00B1456C+2775612]\n\tGetHandleVerifier [0x009051E0+616112]\n\t(No symbol) [0x00815F8C]\n\t(No symbol) [0x00812328]\n\t(No symbol) [0x0081240B]\n\t(No symbol) [0x00804FF7]\n\tBaseThreadInitThunk [0x761A7D59+25]\n\tRtlInitializeExceptionChain [0x774EB74B+107]\n\tRtlClearBits [0x774EB6CF+191]\n"
     ]
    }
   ],
   "source": [
    "import time\n",
    "from selenium import webdriver\n",
    "from selenium.webdriver.common.keys import Keys\n",
    "from selenium.webdriver.common.by import By\n",
    "from selenium.webdriver.chrome.options import Options\n",
    "from selenium.webdriver.chrome.service import Service\n",
    "from webdriver_manager.chrome import ChromeDriverManager\n",
    "import os\n",
    "import shutil\n",
    "\n",
    "options = webdriver.ChromeOptions()\n",
    "options.add_experimental_option(\"prefs\", {\n",
    "     \"download.default_directory\": r\"C:\\Users\\guddu\\Desktop\\SnT Secy Tasks 2023\", \n",
    "     \"download.prompt_for_download\": False,\n",
    "     \"download.directory_upgrade\": True,\n",
    "     \"plugins.always_open_pdf_externally\": True\n",
    "})\n",
    "name = input('Write the name of the company')\n",
    "for i in range(14,23):\n",
    "    driver = webdriver.Chrome(service=Service(ChromeDriverManager().install()), options=options)\n",
    "    driver.get('http://www.google.com')\n",
    "\n",
    "    search_element = driver.find_element(By.NAME, \"q\")\n",
    "    # time.sleep(0.5)\n",
    "    name1 = name+str(\" \")+str(20)+str(i)\n",
    "    search_element.send_keys(\"Filetype:pdf \"+name1+\" annual report pdf\")\n",
    "    search_element.send_keys(Keys.RETURN)\n",
    "\n",
    "    # time.sleep(1)  # Wait for the search results to load\n",
    "\n",
    "    search_element1 = driver.find_element(By.XPATH, \"//a[contains(@href, '.pdf')]\")\n",
    "    search_element1.click()\n",
    "    time.sleep(5)\n",
    "    # pdf_url = driver.current_url\n",
    "    # driver.get(pdf_url)\n",
    "    # file_name = os.path.basename(pdf_url)\n",
    "    # # default_download_directory = options.prefs[\"download.default_directory\"]\n",
    "    # new_file_path = os.path.join(r\"C:\\Users\\guddu\\Desktop\\SnT Secy Tasks 2023\", file_name)  # Replace with the actual desired directory\n",
    "    # # shutil.move(os.path.join(r\"C:\\Users\\guddu\\Desktop\\SnT Secy Tasks 2023\", file_name), new_file_path)\n",
    "    driver.quit()\n"
   ]
  },
  {
   "cell_type": "code",
   "execution_count": null,
   "metadata": {},
   "outputs": [],
   "source": []
  }
 ],
 "metadata": {
  "kernelspec": {
   "display_name": "base",
   "language": "python",
   "name": "python3"
  },
  "language_info": {
   "codemirror_mode": {
    "name": "ipython",
    "version": 3
   },
   "file_extension": ".py",
   "mimetype": "text/x-python",
   "name": "python",
   "nbconvert_exporter": "python",
   "pygments_lexer": "ipython3",
   "version": "3.10.9"
  },
  "orig_nbformat": 4
 },
 "nbformat": 4,
 "nbformat_minor": 2
}
